{
  "nbformat": 4,
  "nbformat_minor": 0,
  "metadata": {
    "colab": {
      "name": "Assignment3.ipynb",
      "provenance": [],
      "collapsed_sections": []
    },
    "kernelspec": {
      "name": "python3",
      "display_name": "Python 3"
    },
    "language_info": {
      "name": "python"
    },
    "accelerator": "GPU"
  },
  "cells": [
    {
      "cell_type": "code",
      "metadata": {
        "id": "4UMKTgRoeqfW"
      },
      "source": [
        "import numpy as np\n",
        "import pandas as pd\n",
        "import torch\n",
        "import torch.nn as nn\n",
        "import torch.nn.functional as F\n",
        "import torch.optim as optim\n",
        "from torch.utils.data import Dataset\n",
        "from torch.utils.data.sampler import SubsetRandomSampler\n",
        "import matplotlib\n",
        "import matplotlib.pyplot as plt\n",
        "from PIL import Image\n",
        "from torchvision import datasets, transforms, models\n",
        "from torch.autograd import Variable\n",
        "from zipfile import ZipFile\n",
        "import os\n",
        "from os import path\n",
        "import shutil"
      ],
      "execution_count": null,
      "outputs": []
    },
    {
      "cell_type": "code",
      "metadata": {
        "id": "RManlEUee0_s"
      },
      "source": [
        "url = '/content/drive/MyDrive/soft/'"
      ],
      "execution_count": null,
      "outputs": []
    },
    {
      "cell_type": "code",
      "metadata": {
        "id": "HC1Mh0lIGogh"
      },
      "source": [
        "dataset_C = url + 'Dataset C.zip'\n",
        "with ZipFile(dataset_C, 'r') as zip:\n",
        "  zip.extractall()"
      ],
      "execution_count": null,
      "outputs": []
    },
    {
      "cell_type": "code",
      "metadata": {
        "colab": {
          "base_uri": "https://localhost:8080/"
        },
        "id": "JrNdKUwbFBUS",
        "outputId": "f8f7c5e7-8598-4701-88d5-8d6a99fd4fc7"
      },
      "source": [
        "from google.colab import drive\n",
        "drive.mount('/content/drive')"
      ],
      "execution_count": null,
      "outputs": [
        {
          "output_type": "stream",
          "name": "stdout",
          "text": [
            "Mounted at /content/drive\n"
          ]
        }
      ]
    },
    {
      "cell_type": "code",
      "metadata": {
        "colab": {
          "base_uri": "https://localhost:8080/",
          "height": 221
        },
        "id": "xy-Cey0sf9Fz",
        "outputId": "63f0628a-305b-44e1-8799-7d8ac6ff8dae"
      },
      "source": [
        "PATH = '/content/'\n",
        "data_labels = pd.read_csv(PATH + 'training-c.csv', usecols = ['filename', 'digit'])\n",
        "print(data_labels.shape)\n",
        "data_labels.head()"
      ],
      "execution_count": null,
      "outputs": [
        {
          "output_type": "stream",
          "name": "stdout",
          "text": [
            "(24298, 2)\n"
          ]
        },
        {
          "output_type": "execute_result",
          "data": {
            "text/html": [
              "<div>\n",
              "<style scoped>\n",
              "    .dataframe tbody tr th:only-of-type {\n",
              "        vertical-align: middle;\n",
              "    }\n",
              "\n",
              "    .dataframe tbody tr th {\n",
              "        vertical-align: top;\n",
              "    }\n",
              "\n",
              "    .dataframe thead th {\n",
              "        text-align: right;\n",
              "    }\n",
              "</style>\n",
              "<table border=\"1\" class=\"dataframe\">\n",
              "  <thead>\n",
              "    <tr style=\"text-align: right;\">\n",
              "      <th></th>\n",
              "      <th>filename</th>\n",
              "      <th>digit</th>\n",
              "    </tr>\n",
              "  </thead>\n",
              "  <tbody>\n",
              "    <tr>\n",
              "      <th>0</th>\n",
              "      <td>c00000.png</td>\n",
              "      <td>6</td>\n",
              "    </tr>\n",
              "    <tr>\n",
              "      <th>1</th>\n",
              "      <td>c00001.png</td>\n",
              "      <td>1</td>\n",
              "    </tr>\n",
              "    <tr>\n",
              "      <th>2</th>\n",
              "      <td>c00002.png</td>\n",
              "      <td>3</td>\n",
              "    </tr>\n",
              "    <tr>\n",
              "      <th>3</th>\n",
              "      <td>c00003.png</td>\n",
              "      <td>2</td>\n",
              "    </tr>\n",
              "    <tr>\n",
              "      <th>4</th>\n",
              "      <td>c00004.png</td>\n",
              "      <td>7</td>\n",
              "    </tr>\n",
              "  </tbody>\n",
              "</table>\n",
              "</div>"
            ],
            "text/plain": [
              "     filename  digit\n",
              "0  c00000.png      6\n",
              "1  c00001.png      1\n",
              "2  c00002.png      3\n",
              "3  c00003.png      2\n",
              "4  c00004.png      7"
            ]
          },
          "metadata": {},
          "execution_count": 6
        }
      ]
    },
    {
      "cell_type": "code",
      "metadata": {
        "id": "hTJ2ocEEHVGA"
      },
      "source": [
        "TRAIN_PATH = url + 'Train'\n",
        "os.mkdir(TRAIN_PATH)\n",
        "\n",
        "def processImages(folder_name):\n",
        "  src = PATH + folder_name + '/'\n",
        "  dir_folders = os.listdir(src)\n",
        "  for dir_name in dir_folders:\n",
        "    file_name = os.path.join(src, dir_name)\n",
        "    if os.path.isfile(file_name):\n",
        "      shutil.copy(file_name, TRAIN_PATH) \n",
        "\n",
        "processImages('training-c')"
      ],
      "execution_count": null,
      "outputs": []
    },
    {
      "cell_type": "code",
      "metadata": {
        "id": "zmE05jA4kTDU"
      },
      "source": [
        "class Dataset(Dataset):\n",
        "    def __init__(self, df, root, transform=None):\n",
        "        self.data = df\n",
        "        self.root = root\n",
        "        self.transform = transform\n",
        "        \n",
        "    def __len__(self):\n",
        "        return len(self.data)\n",
        "    \n",
        "    def __getitem__(self, index):\n",
        "        item = self.data.iloc[index]\n",
        "        \n",
        "        path = self.root + \"/\" + item[0]\n",
        "        image = Image.open(path).convert('L')\n",
        "        label = item[1]\n",
        "        \n",
        "        if self.transform is not None:\n",
        "            image = self.transform(image)\n",
        "            \n",
        "        return image, label"
      ],
      "execution_count": null,
      "outputs": []
    },
    {
      "cell_type": "code",
      "metadata": {
        "colab": {
          "base_uri": "https://localhost:8080/"
        },
        "id": "adaZ60Uik-eb",
        "outputId": "bd7ec41b-b422-427e-86c9-ec7792ba0cb0"
      },
      "source": [
        "mean = [0.5,]\n",
        "std = [0.5, ]\n",
        "\n",
        "train_transform = transforms.Compose([\n",
        "    transforms.Resize(28),\n",
        "    transforms.ToTensor(),\n",
        "    transforms.Normalize(mean, std)\n",
        "])\n",
        "\n",
        "test_transform = transforms.Compose([\n",
        "        transforms.Resize(28),\n",
        "        transforms.ToTensor(),\n",
        "        transforms.Normalize(mean, std)\n",
        "])\n",
        "\n",
        "train_data  = Dataset(data_labels, TRAIN_PATH, train_transform)\n",
        "test_data = Dataset(data_labels, TRAIN_PATH, test_transform)\n",
        "\n",
        "print(\"Trainig Samples: \", len(train_data))"
      ],
      "execution_count": null,
      "outputs": [
        {
          "output_type": "stream",
          "name": "stdout",
          "text": [
            "Trainig Samples:  24298\n"
          ]
        }
      ]
    },
    {
      "cell_type": "markdown",
      "metadata": {
        "id": "8htM9w2LmUVl"
      },
      "source": [
        "# **Base Parameters**"
      ]
    },
    {
      "cell_type": "code",
      "metadata": {
        "colab": {
          "base_uri": "https://localhost:8080/"
        },
        "id": "IGG3l4vrmkI3",
        "outputId": "d3ce4cba-f1bc-4afb-a1f3-6751b9f04b2f"
      },
      "source": [
        "batch_size = 70\n",
        "num_iters = 15000\n",
        "input_dim = 28*28\n",
        "num_hidden = 260\n",
        "output_dim = 10\n",
        "\n",
        "learning_rate = 0.01\n",
        "\n",
        "num_epochs = num_iters / (len(train_data) / batch_size)\n",
        "num_epochs = int(num_epochs)\n",
        "print(num_epochs)\n",
        "\n",
        "device = torch.device(\"cuda:0\" if torch.cuda.is_available() else \"cpu\")"
      ],
      "execution_count": 73,
      "outputs": [
        {
          "output_type": "stream",
          "name": "stdout",
          "text": [
            "43\n"
          ]
        }
      ]
    },
    {
      "cell_type": "code",
      "metadata": {
        "colab": {
          "base_uri": "https://localhost:8080/"
        },
        "id": "lsSesapsltZF",
        "outputId": "4730eba8-518e-42b1-e454-1f545c19753c"
      },
      "source": [
        "test_size = 0.2\n",
        "num_train = len(train_data)\n",
        "indices = list(range(num_train))\n",
        "np.random.shuffle(indices)\n",
        "split = int(np.floor(test_size * num_train))\n",
        "train_idx, test_idx = indices[split:], indices[:split]\n",
        "\n",
        "train_sampler = SubsetRandomSampler(train_idx)\n",
        "test_sampler = SubsetRandomSampler(test_idx)\n",
        "\n",
        "train_loader = torch.utils.data.DataLoader(\n",
        "    train_data, batch_size=batch_size,\n",
        "    sampler=train_sampler)\n",
        "\n",
        "test_loader = torch.utils.data.DataLoader(\n",
        "    test_data, batch_size=batch_size,\n",
        "    sampler=test_sampler)\n",
        "\n",
        "print(\"Train dataloader:{}\".format(len(train_loader)))\n",
        "print(\"Test dataloader:{}\".format(len(test_loader)))"
      ],
      "execution_count": null,
      "outputs": [
        {
          "output_type": "stream",
          "name": "stdout",
          "text": [
            "Train dataloader:648\n",
            "Test dataloader:162\n"
          ]
        }
      ]
    },
    {
      "cell_type": "code",
      "metadata": {
        "id": "6jCcU8giniGS"
      },
      "source": [
        "class DeepNeuralNetworkModel(nn.Module):\n",
        "    def __init__(self, input_size, num_classes, num_hidden):\n",
        "        super().__init__()\n",
        "       \n",
        "        self.linear_1 = nn.Linear(input_size, num_hidden)\n",
        "        self.relu_1 =nn.ReLU()\n",
        "\n",
        " \n",
        "        self.linear_2 = nn.Linear(num_hidden, num_hidden)\n",
        "        self.relu_2 = nn.Softmax(dim=0)\n",
        " \n",
        "        self.linear_3 = nn.Linear(num_hidden, num_hidden)\n",
        "        self.relu_3 = nn.ReLU()\n",
        " \n",
        "        self.linear_4 = nn.Linear(num_hidden, num_hidden)\n",
        "        self.relu_4 = nn.ReLU()\n",
        " \n",
        "        # self.linear_5= nn.Linear(num_hidden, num_hidden)\n",
        "        # self.relu_5=nn.ReLU()\n",
        "\n",
        " \n",
        "        # self.linear_6 = nn.Linear(num_hidden, num_hidden)\n",
        "        # self.relu_6 =nn.ReLU()\n",
        "\n",
        " \n",
        "        self.linear_out = nn.Linear(num_hidden, num_classes)\n",
        " \n",
        "    def forward(self, x):\n",
        "        out  = self.linear_1(x)\n",
        "        out = self.relu_1(out)\n",
        "        \n",
        "        out  = self.linear_2(out)\n",
        "        out = self.relu_2(out)\n",
        " \n",
        "        out  = self.linear_3(out)\n",
        "        out = self.relu_3(out)\n",
        " \n",
        "        out  = self.linear_4(out)\n",
        "        out = self.relu_4(out)\n",
        " \n",
        "        # out  = self.linear_5(out)\n",
        "        # out = self.relu_5(out)\n",
        " \n",
        "        # out  = self.linear_6(out)\n",
        "        # out = self.relu_6(out)\n",
        "        \n",
        "        probas  = self.linear_out(out)\n",
        "        return probas"
      ],
      "execution_count": null,
      "outputs": []
    },
    {
      "cell_type": "code",
      "metadata": {
        "colab": {
          "base_uri": "https://localhost:8080/"
        },
        "id": "Q23HotHio42L",
        "outputId": "0ad7629d-04e1-4174-d015-543e4f7bd4ca"
      },
      "source": [
        "model = DeepNeuralNetworkModel(input_size = input_dim, num_classes = output_dim, num_hidden = num_hidden)\n",
        "\n",
        "model.to(device)"
      ],
      "execution_count": null,
      "outputs": [
        {
          "output_type": "execute_result",
          "data": {
            "text/plain": [
              "DeepNeuralNetworkModel(\n",
              "  (linear_1): Linear(in_features=784, out_features=250, bias=True)\n",
              "  (relu_1): ReLU()\n",
              "  (linear_2): Linear(in_features=250, out_features=250, bias=True)\n",
              "  (relu_2): ReLU()\n",
              "  (linear_3): Linear(in_features=250, out_features=250, bias=True)\n",
              "  (relu_3): ReLU()\n",
              "  (linear_4): Linear(in_features=250, out_features=250, bias=True)\n",
              "  (relu_4): ReLU()\n",
              "  (linear_5): Linear(in_features=250, out_features=250, bias=True)\n",
              "  (relu_5): ReLU()\n",
              "  (linear_6): Linear(in_features=250, out_features=250, bias=True)\n",
              "  (relu_6): ReLU()\n",
              "  (linear_out): Linear(in_features=250, out_features=10, bias=True)\n",
              ")"
            ]
          },
          "metadata": {},
          "execution_count": 55
        }
      ]
    },
    {
      "cell_type": "code",
      "metadata": {
        "id": "V1YagXSipEth"
      },
      "source": [
        "criterion = nn.CrossEntropyLoss()\n",
        "optimizer = torch.optim.SGD(model.parameters(), lr = learning_rate)"
      ],
      "execution_count": null,
      "outputs": []
    },
    {
      "cell_type": "code",
      "metadata": {
        "colab": {
          "base_uri": "https://localhost:8080/"
        },
        "id": "6VJ_sYCMp2l9",
        "outputId": "c6dc7669-cfa7-4e32-a5c5-7dd3b62abb6f"
      },
      "source": [
        "iteration_loss = []\n",
        "iter = 0\n",
        "for epoch in range(num_epochs):\n",
        "    print('Epoch: ', epoch + 1)\n",
        "    for i, (images, labels) in enumerate(train_loader):\n",
        "\n",
        "        images = images.view(-1, 28*28).to(device)\n",
        "        labels = labels.to(device)\n",
        "\n",
        "        optimizer.zero_grad()\n",
        "\n",
        "        outputs = model(images) \n",
        "\n",
        "        loss = criterion(outputs, labels)\n",
        "\n",
        "        loss.backward()\n",
        "\n",
        "        optimizer.step()\n",
        "\n",
        "        iter += 1\n",
        "\n",
        "        if iter % 500 == 0:        \n",
        "            correct = 0\n",
        "            total = 0\n",
        "            for images, labels in test_loader:\n",
        "               \n",
        "                images = images.view(-1, 28*28).to(device)\n",
        "\n",
        "                outputs = model(images)\n",
        "\n",
        "                _, predicted = torch.max(outputs, 1)\n",
        "\n",
        "                total += labels.size(0)\n",
        "\n",
        "                if torch.cuda.is_available():\n",
        "                    correct += (predicted.cpu() == labels.cpu()).sum() \n",
        "                else:\n",
        "                    correct += (predicted == labels).sum()\n",
        "\n",
        "            accuracy = 100 * correct.item() / total\n",
        "\n",
        "            iteration_loss.append(loss.item())\n",
        "            print('Iteration: {}. Loss: {}. Accuracy: {}'.format(iter, loss.item(), accuracy))"
      ],
      "execution_count": 74,
      "outputs": [
        {
          "output_type": "stream",
          "name": "stdout",
          "text": [
            "Epoch:  1\n",
            "Iteration: 500. Loss: 0.7071045637130737. Accuracy: 75.79748919530768\n",
            "Epoch:  2\n",
            "Iteration: 1000. Loss: 0.4494919776916504. Accuracy: 78.67874048158058\n",
            "Epoch:  3\n",
            "Iteration: 1500. Loss: 0.3284059464931488. Accuracy: 81.6834739658366\n",
            "Epoch:  4\n",
            "Iteration: 2000. Loss: 0.25101014971733093. Accuracy: 80.63387528298004\n",
            "Iteration: 2500. Loss: 0.9000265598297119. Accuracy: 74.48034575015436\n",
            "Epoch:  5\n",
            "Iteration: 3000. Loss: 0.3737266957759857. Accuracy: 80.42807161967482\n",
            "Epoch:  6\n",
            "Iteration: 3500. Loss: 0.4511489272117615. Accuracy: 78.02016875900391\n",
            "Epoch:  7\n",
            "Iteration: 4000. Loss: 0.23688969016075134. Accuracy: 82.46552788639637\n",
            "Iteration: 4500. Loss: 0.3572993278503418. Accuracy: 79.87240172875077\n",
            "Epoch:  8\n",
            "Iteration: 5000. Loss: 0.9071946740150452. Accuracy: 75.85923029429924\n",
            "Epoch:  9\n",
            "Iteration: 5500. Loss: 0.614997148513794. Accuracy: 69.54105783082939\n",
            "Epoch:  10\n",
            "Iteration: 6000. Loss: 0.5412932634353638. Accuracy: 81.14838444124305\n",
            "Epoch:  11\n",
            "Iteration: 6500. Loss: 0.5823172330856323. Accuracy: 77.2175344721136\n",
            "Iteration: 7000. Loss: 0.2698354125022888. Accuracy: 78.18481168964807\n",
            "Epoch:  12\n",
            "Iteration: 7500. Loss: 0.2316807210445404. Accuracy: 78.61699938258901\n",
            "Epoch:  13\n",
            "Iteration: 8000. Loss: 0.47448214888572693. Accuracy: 80.98374151059889\n",
            "Epoch:  14\n",
            "Iteration: 8500. Loss: 0.3026963472366333. Accuracy: 78.20539205597859\n",
            "Iteration: 9000. Loss: 0.36574092507362366. Accuracy: 81.580572134184\n",
            "Epoch:  15\n",
            "Iteration: 9500. Loss: 0.19676360487937927. Accuracy: 79.54311586746245\n",
            "Epoch:  16\n",
            "Iteration: 10000. Loss: 0.48528486490249634. Accuracy: 78.14365095698703\n",
            "Epoch:  17\n",
            "Iteration: 10500. Loss: 0.2174825221300125. Accuracy: 81.37476847087878\n",
            "Iteration: 11000. Loss: 0.32182177901268005. Accuracy: 80.07820539205598\n",
            "Epoch:  18\n",
            "Iteration: 11500. Loss: 0.2790541648864746. Accuracy: 81.14838444124305\n",
            "Epoch:  19\n",
            "Iteration: 12000. Loss: 0.5443726181983948. Accuracy: 80.22226795636962\n",
            "Epoch:  20\n",
            "Iteration: 12500. Loss: 0.7215905785560608. Accuracy: 74.99485490841737\n",
            "Epoch:  21\n",
            "Iteration: 13000. Loss: 0.1743755340576172. Accuracy: 81.31302737188722\n",
            "Iteration: 13500. Loss: 0.5301429629325867. Accuracy: 80.36633052068326\n",
            "Epoch:  22\n",
            "Iteration: 14000. Loss: 0.6304712891578674. Accuracy: 81.31302737188722\n",
            "Epoch:  23\n",
            "Iteration: 14500. Loss: 0.5016799569129944. Accuracy: 80.63387528298004\n",
            "Epoch:  24\n",
            "Iteration: 15000. Loss: 0.34128034114837646. Accuracy: 78.63757974891953\n",
            "Iteration: 15500. Loss: 0.7807939052581787. Accuracy: 76.53838238320643\n",
            "Epoch:  25\n",
            "Iteration: 16000. Loss: 0.16293825209140778. Accuracy: 83.30932290594772\n",
            "Epoch:  26\n",
            "Iteration: 16500. Loss: 0.18337096273899078. Accuracy: 81.66289359950608\n",
            "Epoch:  27\n",
            "Iteration: 17000. Loss: 0.22159042954444885. Accuracy: 82.19798312409961\n",
            "Epoch:  28\n",
            "Iteration: 17500. Loss: 0.3096807301044464. Accuracy: 83.82383206421075\n",
            "Iteration: 18000. Loss: 0.1427900195121765. Accuracy: 83.00061741098992\n",
            "Epoch:  29\n",
            "Iteration: 18500. Loss: 0.19710861146450043. Accuracy: 83.10351924264252\n",
            "Epoch:  30\n",
            "Iteration: 19000. Loss: 0.31041863560676575. Accuracy: 83.80325169788023\n",
            "Epoch:  31\n",
            "Iteration: 19500. Loss: 0.17018453776836395. Accuracy: 83.49454620292241\n",
            "Iteration: 20000. Loss: 0.7098390460014343. Accuracy: 77.19695410578308\n",
            "Epoch:  32\n",
            "Iteration: 20500. Loss: 0.534856915473938. Accuracy: 82.21856349043013\n",
            "Epoch:  33\n",
            "Iteration: 21000. Loss: 0.5625981092453003. Accuracy: 80.44865198600534\n",
            "Epoch:  34\n",
            "Iteration: 21500. Loss: 0.2467641532421112. Accuracy: 84.70878781642313\n",
            "Iteration: 22000. Loss: 0.2692616879940033. Accuracy: 82.25972422309117\n",
            "Epoch:  35\n",
            "Iteration: 22500. Loss: 0.3786977231502533. Accuracy: 82.5890100843795\n",
            "Epoch:  36\n",
            "Iteration: 23000. Loss: 0.17020748555660248. Accuracy: 84.33834122247376\n",
            "Epoch:  37\n",
            "Iteration: 23500. Loss: 0.42417898774147034. Accuracy: 81.64231323317556\n",
            "Epoch:  38\n",
            "Iteration: 24000. Loss: 0.40227025747299194. Accuracy: 73.57480963161144\n",
            "Iteration: 24500. Loss: 0.2838326096534729. Accuracy: 84.40008232146532\n",
            "Epoch:  39\n",
            "Iteration: 25000. Loss: 0.4732944667339325. Accuracy: 80.13994649104754\n",
            "Epoch:  40\n",
            "Iteration: 25500. Loss: 0.29761219024658203. Accuracy: 82.42436715373533\n",
            "Epoch:  41\n",
            "Iteration: 26000. Loss: 0.1526622474193573. Accuracy: 79.17266927351307\n",
            "Iteration: 26500. Loss: 0.18280121684074402. Accuracy: 82.4861082527269\n",
            "Epoch:  42\n",
            "Iteration: 27000. Loss: 0.2689937651157379. Accuracy: 83.90615352953283\n",
            "Epoch:  43\n",
            "Iteration: 27500. Loss: 0.13480065762996674. Accuracy: 84.99691294505043\n"
          ]
        }
      ]
    },
    {
      "cell_type": "code",
      "metadata": {
        "id": "IwU44FpRqO9t"
      },
      "source": [
        "torch.save(model.state_dict(), '/content/drive/MyDrive/soft/model_base.pkl')"
      ],
      "execution_count": 75,
      "outputs": []
    },
    {
      "cell_type": "code",
      "metadata": {
        "colab": {
          "base_uri": "https://localhost:8080/",
          "height": 316
        },
        "id": "1AIS0RVwq8ul",
        "outputId": "ad3bb893-ea91-43b0-f880-66344357f013"
      },
      "source": [
        "print (iteration_loss)\n",
        "plt.plot(iteration_loss)\n",
        "plt.ylabel('Loss')\n",
        "plt.xlabel('Iteration')\n",
        "plt.show()"
      ],
      "execution_count": null,
      "outputs": [
        {
          "output_type": "stream",
          "name": "stdout",
          "text": [
            "[2.0646822452545166, 1.6625207662582397, 1.8120474815368652, 1.6240156888961792, 1.5908585786819458, 2.087599754333496, 1.4512861967086792, 1.8410072326660156, 1.5167564153671265, 1.6547763347625732, 1.9318175315856934, 1.6016809940338135, 1.5917186737060547, 1.6320451498031616, 1.5972360372543335, 1.298028826713562, 1.8795198202133179, 1.7943588495254517, 1.7441775798797607, 1.4773344993591309, 1.3353192806243896, 1.3692021369934082, 1.2158520221710205, 1.360504388809204, 1.5362598896026611, 1.325574278831482, 1.9547544717788696, 1.3481805324554443, 1.0834976434707642, 2.0268640518188477, 1.1822386980056763, 1.170837163925171, 1.2327673435211182, 1.459532618522644, 1.6756646633148193, 1.5001180171966553, 1.2131096124649048, 1.0373425483703613, 1.2974159717559814, 1.284831166267395, 1.5140035152435303, 1.5413496494293213, 0.96664959192276, 1.0102483034133911, 0.6576119661331177, 1.0576159954071045, 1.0871975421905518, 0.8724702596664429, 1.0865894556045532, 0.8107089400291443, 1.2087538242340088, 1.2321884632110596, 1.0189815759658813, 1.0724486112594604, 0.6945638060569763]\n"
          ]
        },
        {
          "output_type": "display_data",
          "data": {
            "image/png": "[encoded data removed]",
            "text/plain": [
              "<Figure size 432x288 with 1 Axes>"
            ]
          },
          "metadata": {
            "needs_background": "light"
          }
        }
      ]
    }
  ]
}